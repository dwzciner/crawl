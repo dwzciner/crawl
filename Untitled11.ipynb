{
 "cells": [
  {
   "cell_type": "code",
   "execution_count": 2,
   "id": "f6d36286-9b03-4ff4-a26d-640a3bba51eb",
   "metadata": {
    "tags": []
   },
   "outputs": [],
   "source": [
    "import pandas as pd\n",
    "import numpy as np\n",
    "import matplotlib.pyplot as plt\n",
    "import seaborn as sns\n",
    "import plotly.express as px\n",
    "import plotly.graph_objects as go\n",
    "import requests\n",
    "%matplotlib inline \n",
    "sns.set(style='darkgrid')  "
   ]
  },
  {
   "cell_type": "code",
   "execution_count": 3,
   "id": "ea70de94-7366-4215-8850-c7b71f07785f",
   "metadata": {
    "tags": []
   },
   "outputs": [],
   "source": [
    "df = pd.read_csv(r\"C:\\Users\\wang'zi'cheng\\Desktop\\location.csv\")"
   ]
  },
  {
   "cell_type": "code",
   "execution_count": 4,
   "id": "3820fa01-23ff-4204-b1dc-d183cf8a27f3",
   "metadata": {
    "tags": []
   },
   "outputs": [
    {
     "data": {
      "text/html": [
       "<div>\n",
       "<style scoped>\n",
       "    .dataframe tbody tr th:only-of-type {\n",
       "        vertical-align: middle;\n",
       "    }\n",
       "\n",
       "    .dataframe tbody tr th {\n",
       "        vertical-align: top;\n",
       "    }\n",
       "\n",
       "    .dataframe thead th {\n",
       "        text-align: right;\n",
       "    }\n",
       "</style>\n",
       "<table border=\"1\" class=\"dataframe\">\n",
       "  <thead>\n",
       "    <tr style=\"text-align: right;\">\n",
       "      <th></th>\n",
       "      <th>Unnamed: 0</th>\n",
       "      <th>城市</th>\n",
       "      <th>岗位数量</th>\n",
       "      <th>lon</th>\n",
       "      <th>lat</th>\n",
       "    </tr>\n",
       "  </thead>\n",
       "  <tbody>\n",
       "    <tr>\n",
       "      <th>0</th>\n",
       "      <td>0</td>\n",
       "      <td>北京</td>\n",
       "      <td>649</td>\n",
       "      <td>116.407526</td>\n",
       "      <td>39.904030</td>\n",
       "    </tr>\n",
       "    <tr>\n",
       "      <th>1</th>\n",
       "      <td>1</td>\n",
       "      <td>深圳</td>\n",
       "      <td>578</td>\n",
       "      <td>114.057868</td>\n",
       "      <td>22.543099</td>\n",
       "    </tr>\n",
       "    <tr>\n",
       "      <th>2</th>\n",
       "      <td>2</td>\n",
       "      <td>上海</td>\n",
       "      <td>526</td>\n",
       "      <td>121.473701</td>\n",
       "      <td>31.230416</td>\n",
       "    </tr>\n",
       "    <tr>\n",
       "      <th>3</th>\n",
       "      <td>3</td>\n",
       "      <td>广州</td>\n",
       "      <td>288</td>\n",
       "      <td>113.264434</td>\n",
       "      <td>23.129162</td>\n",
       "    </tr>\n",
       "    <tr>\n",
       "      <th>4</th>\n",
       "      <td>4</td>\n",
       "      <td>成都</td>\n",
       "      <td>250</td>\n",
       "      <td>104.066541</td>\n",
       "      <td>30.572269</td>\n",
       "    </tr>\n",
       "  </tbody>\n",
       "</table>\n",
       "</div>"
      ],
      "text/plain": [
       "   Unnamed: 0  城市  岗位数量         lon        lat\n",
       "0           0  北京   649  116.407526  39.904030\n",
       "1           1  深圳   578  114.057868  22.543099\n",
       "2           2  上海   526  121.473701  31.230416\n",
       "3           3  广州   288  113.264434  23.129162\n",
       "4           4  成都   250  104.066541  30.572269"
      ]
     },
     "execution_count": 4,
     "metadata": {},
     "output_type": "execute_result"
    }
   ],
   "source": [
    "df.head()"
   ]
  },
  {
   "cell_type": "code",
   "execution_count": null,
   "id": "b1626304-a0c5-4a08-a129-b4031c485cc9",
   "metadata": {},
   "outputs": [],
   "source": [
    "import plotly.express as px \n",
    "#在地图上绘制密度图\n",
    "\n",
    "fig = px.density_mapbox(df\n",
    "                        , lat='lat'       #设置纬度\n",
    "                        ,lon='lon'        #设置经度\n",
    "                        , z=df['岗位数量']            #设置密度\n",
    "                        , radius=3,\n",
    "                        center=dict(lat=40, lon=118)            #设置地图的中心点\n",
    "                        , zoom=2                               #设置地图的缩放等级0-20\n",
    "                        ,mapbox_style=\"open-street-map\"\n",
    "                       ,color_continuous_scale='Electric'\n",
    "                       )        #设置地图的底图\n",
    "\n",
    "fig.show()"
   ]
  },
  {
   "cell_type": "code",
   "execution_count": null,
   "id": "9507fe9c-32bd-4caa-9c53-c66ac1fed9f6",
   "metadata": {
    "tags": []
   },
   "outputs": [],
   "source": [
    "scatter = go.Scattermapbox(lat=df['lat']       #设置纬度\n",
    "                           ,lon=df['lon']      #设置经度\n",
    " \n",
    "                          )                           #使用Scattermapbox函数画散点图\n",
    "fig = go.Figure(scatter)       #将散点图导入画布\n",
    "fig.update_layout(mapbox_style='open-street-map')      #将地图设置为画布\n",
    "#可以使用的免费地图：\"open-street-map\", \"carto-positron\", \"carto-darkmatter\", \"stamen-terrain\", \"stamen-toner\" or \"stamen-watercolor\"\n",
    "fig.show()"
   ]
  },
  {
   "cell_type": "code",
   "execution_count": 7,
   "id": "604ca199-4d12-457f-99ba-765384cbe8ab",
   "metadata": {
    "tags": []
   },
   "outputs": [
    {
     "data": {
      "application/vnd.plotly.v1+json": {
       "config": {
        "plotlyServerURL": "https://plot.ly"
       },
       "data": [
        {
         "customdata": [
          [
           649
          ],
          [
           578
          ],
          [
           526
          ],
          [
           288
          ],
          [
           250
          ],
          [
           200
          ],
          [
           115
          ],
          [
           69
          ],
          [
           52
          ],
          [
           43
          ],
          [
           28
          ],
          [
           25
          ],
          [
           25
          ],
          [
           25
          ],
          [
           18
          ],
          [
           17
          ],
          [
           17
          ],
          [
           15
          ],
          [
           15
          ],
          [
           15
          ],
          [
           14
          ],
          [
           12
          ],
          [
           9
          ],
          [
           6
          ],
          [
           4
          ],
          [
           4
          ],
          [
           4
          ],
          [
           4
          ],
          [
           3
          ],
          [
           3
          ],
          [
           3
          ],
          [
           3
          ],
          [
           3
          ],
          [
           3
          ],
          [
           3
          ],
          [
           2
          ],
          [
           2
          ],
          [
           2
          ],
          [
           2
          ],
          [
           2
          ],
          [
           2
          ],
          [
           2
          ],
          [
           2
          ],
          [
           2
          ],
          [
           2
          ],
          [
           2
          ],
          [
           2
          ],
          [
           2
          ],
          [
           1
          ],
          [
           1
          ],
          [
           1
          ],
          [
           1
          ],
          [
           1
          ],
          [
           1
          ],
          [
           1
          ],
          [
           1
          ],
          [
           1
          ],
          [
           1
          ],
          [
           1
          ],
          [
           1
          ],
          [
           1
          ],
          [
           1
          ],
          [
           1
          ],
          [
           1
          ],
          [
           1
          ],
          [
           1
          ],
          [
           1
          ],
          [
           1
          ],
          [
           1
          ],
          [
           1
          ],
          [
           1
          ],
          [
           1
          ],
          [
           1
          ],
          [
           1
          ],
          [
           1
          ],
          [
           1
          ],
          [
           1
          ],
          [
           1
          ],
          [
           1
          ],
          [
           1
          ]
         ],
         "geo": "geo",
         "hovertemplate": "<b>%{hovertext}</b><br><br>size=%{marker.size}<br>lat=%{lat}<br>lon=%{lon}<br>岗位数量=%{customdata[0]}<extra></extra>",
         "hovertext": [
          "北京",
          "深圳",
          "上海",
          "广州",
          "成都",
          "杭州",
          "武汉",
          "西安",
          "南京",
          "苏州",
          "合肥",
          "佛山",
          "郑州",
          "长沙",
          "重庆",
          "宁波",
          "济南",
          "福州",
          "东莞",
          "厦门",
          "天津",
          "珠海",
          "青岛",
          "贵阳",
          "桂林",
          "大连",
          "温州",
          "廊坊",
          "中山",
          "太原",
          "昆明",
          "长春",
          "海外",
          "金昌",
          "拉萨",
          "龙岩",
          "台州",
          "南宁",
          "沈阳",
          "潍坊",
          "烟台",
          "湖州",
          "淄博",
          "无锡",
          "南昌",
          "呼和浩特",
          "石家庄",
          "常州",
          "连云港",
          "汕头",
          "阿克苏地区",
          "曲靖",
          "兰州",
          "嘉兴",
          "香港",
          "梅州",
          "泉州",
          "海口",
          "洛阳",
          "鞍山",
          "滨州",
          "河源",
          "运城",
          "长治",
          "金华",
          "商丘",
          "清远",
          "唐山",
          "辽阳",
          "徐州",
          "临沂",
          "秦皇岛",
          "咸阳",
          "通化",
          "盐城",
          "安阳",
          "哈尔滨",
          "惠州",
          "乌鲁木齐",
          "扬州"
         ],
         "lat": [
          39.90403,
          22.543099,
          31.230416,
          23.129162,
          30.572269,
          30.274084,
          30.593098,
          34.341568,
          32.060255,
          31.298886,
          31.820586,
          23.021548,
          34.746599,
          28.228209,
          29.563009,
          29.874556,
          36.651216,
          26.074507,
          23.020536,
          24.479833,
          39.084158,
          22.270715,
          36.067082,
          26.647661,
          25.273566,
          38.914003,
          27.994267,
          39.538047,
          22.517645,
          37.87059,
          24.880095,
          43.817071,
          26.80443,
          38.520089,
          29.645554,
          25.075123,
          28.656386,
          22.817002,
          41.805698,
          36.706774,
          37.463822,
          30.894348,
          36.813487,
          31.491169,
          28.682892,
          40.842585,
          38.042307,
          31.810689,
          34.596653,
          23.354091,
          41.168779,
          25.489999,
          36.061089,
          30.746129,
          22.276284,
          24.288615,
          24.874132,
          20.044001,
          34.619682,
          41.108647,
          37.38199,
          23.743538,
          35.026412,
          36.195386,
          29.079059,
          34.414172,
          23.681763,
          39.630867,
          41.267244,
          34.205768,
          35.104672,
          39.935385,
          34.329605,
          41.728401,
          33.347382,
          36.097577,
          45.803775,
          23.111847,
          43.825592,
          32.39421
         ],
         "legendgroup": "",
         "lon": [
          116.407526,
          114.057868,
          121.473701,
          113.264434,
          104.066541,
          120.15507,
          114.305392,
          108.940174,
          118.796877,
          120.585315,
          117.227239,
          113.121416,
          113.625368,
          112.938814,
          106.551556,
          121.550357,
          117.119999,
          119.296494,
          113.751765,
          118.089425,
          117.200983,
          113.576726,
          120.382639,
          106.630153,
          110.290194,
          121.614682,
          120.699366,
          116.683752,
          113.392782,
          112.548879,
          102.832891,
          125.323544,
          104.012093,
          102.188043,
          91.140856,
          117.017536,
          121.420757,
          108.366543,
          123.431474,
          119.161755,
          121.447935,
          120.086823,
          118.054927,
          120.31191,
          115.858197,
          111.74918,
          114.51486,
          119.973987,
          119.221611,
          116.681972,
          80.260605,
          103.796167,
          103.834303,
          120.755486,
          114.163825,
          116.122238,
          118.675675,
          110.198293,
          112.45404,
          122.994329,
          117.970703,
          114.700447,
          111.007528,
          113.116255,
          119.647444,
          115.65637,
          113.056031,
          118.180193,
          123.236944,
          117.284124,
          118.356448,
          119.600492,
          108.708991,
          125.939697,
          120.163561,
          114.392392,
          126.534967,
          114.416196,
          87.616848,
          119.412966
         ],
         "marker": {
          "color": "#636efa",
          "size": [
           3.812244696800369,
           3.761927838420529,
           3.7209857441537393,
           3.459392487759231,
           3.3979400086720375,
           3.3010299956639813,
           3.060697840353612,
           2.838849090737255,
           2.716003343634799,
           2.6334684555795866,
           2.4471580313422194,
           2.3979400086720375,
           2.3979400086720375,
           2.3979400086720375,
           2.255272505103306,
           2.230448921378274,
           2.230448921378274,
           2.1760912590556813,
           2.1760912590556813,
           2.1760912590556813,
           2.146128035678238,
           2.0791812460476247,
           1.954242509439325,
           1.7781512503836436,
           1.6020599913279623,
           1.6020599913279623,
           1.6020599913279623,
           1.6020599913279623,
           1.4771212547196624,
           1.4771212547196624,
           1.4771212547196624,
           1.4771212547196624,
           1.4771212547196624,
           1.4771212547196624,
           1.4771212547196624,
           1.3010299956639813,
           1.3010299956639813,
           1.3010299956639813,
           1.3010299956639813,
           1.3010299956639813,
           1.3010299956639813,
           1.3010299956639813,
           1.3010299956639813,
           1.3010299956639813,
           1.3010299956639813,
           1.3010299956639813,
           1.3010299956639813,
           1.3010299956639813,
           1,
           1,
           1,
           1,
           1,
           1,
           1,
           1,
           1,
           1,
           1,
           1,
           1,
           1,
           1,
           1,
           1,
           1,
           1,
           1,
           1,
           1,
           1,
           1,
           1,
           1,
           1,
           1,
           1,
           1,
           1,
           1
          ],
          "sizemode": "area",
          "sizeref": 0.009530611742000922,
          "symbol": "circle"
         },
         "mode": "markers",
         "name": "",
         "showlegend": false,
         "type": "scattergeo"
        }
       ],
       "layout": {
        "autosize": true,
        "geo": {
         "center": {
          "lat": 35.19441538690822,
          "lon": 105.26787673342625
         },
         "domain": {
          "x": [
           0,
           1
          ],
          "y": [
           0,
           1
          ]
         },
         "projection": {
          "scale": 2.662418861232016
         },
         "scope": "asia"
        },
        "legend": {
         "itemsizing": "constant",
         "tracegroupgap": 0
        },
        "margin": {
         "t": 60
        },
        "template": {
         "data": {
          "bar": [
           {
            "error_x": {
             "color": "#2a3f5f"
            },
            "error_y": {
             "color": "#2a3f5f"
            },
            "marker": {
             "line": {
              "color": "#E5ECF6",
              "width": 0.5
             },
             "pattern": {
              "fillmode": "overlay",
              "size": 10,
              "solidity": 0.2
             }
            },
            "type": "bar"
           }
          ],
          "barpolar": [
           {
            "marker": {
             "line": {
              "color": "#E5ECF6",
              "width": 0.5
             },
             "pattern": {
              "fillmode": "overlay",
              "size": 10,
              "solidity": 0.2
             }
            },
            "type": "barpolar"
           }
          ],
          "carpet": [
           {
            "aaxis": {
             "endlinecolor": "#2a3f5f",
             "gridcolor": "white",
             "linecolor": "white",
             "minorgridcolor": "white",
             "startlinecolor": "#2a3f5f"
            },
            "baxis": {
             "endlinecolor": "#2a3f5f",
             "gridcolor": "white",
             "linecolor": "white",
             "minorgridcolor": "white",
             "startlinecolor": "#2a3f5f"
            },
            "type": "carpet"
           }
          ],
          "choropleth": [
           {
            "colorbar": {
             "outlinewidth": 0,
             "ticks": ""
            },
            "type": "choropleth"
           }
          ],
          "contour": [
           {
            "colorbar": {
             "outlinewidth": 0,
             "ticks": ""
            },
            "colorscale": [
             [
              0,
              "#0d0887"
             ],
             [
              0.1111111111111111,
              "#46039f"
             ],
             [
              0.2222222222222222,
              "#7201a8"
             ],
             [
              0.3333333333333333,
              "#9c179e"
             ],
             [
              0.4444444444444444,
              "#bd3786"
             ],
             [
              0.5555555555555556,
              "#d8576b"
             ],
             [
              0.6666666666666666,
              "#ed7953"
             ],
             [
              0.7777777777777778,
              "#fb9f3a"
             ],
             [
              0.8888888888888888,
              "#fdca26"
             ],
             [
              1,
              "#f0f921"
             ]
            ],
            "type": "contour"
           }
          ],
          "contourcarpet": [
           {
            "colorbar": {
             "outlinewidth": 0,
             "ticks": ""
            },
            "type": "contourcarpet"
           }
          ],
          "heatmap": [
           {
            "colorbar": {
             "outlinewidth": 0,
             "ticks": ""
            },
            "colorscale": [
             [
              0,
              "#0d0887"
             ],
             [
              0.1111111111111111,
              "#46039f"
             ],
             [
              0.2222222222222222,
              "#7201a8"
             ],
             [
              0.3333333333333333,
              "#9c179e"
             ],
             [
              0.4444444444444444,
              "#bd3786"
             ],
             [
              0.5555555555555556,
              "#d8576b"
             ],
             [
              0.6666666666666666,
              "#ed7953"
             ],
             [
              0.7777777777777778,
              "#fb9f3a"
             ],
             [
              0.8888888888888888,
              "#fdca26"
             ],
             [
              1,
              "#f0f921"
             ]
            ],
            "type": "heatmap"
           }
          ],
          "heatmapgl": [
           {
            "colorbar": {
             "outlinewidth": 0,
             "ticks": ""
            },
            "colorscale": [
             [
              0,
              "#0d0887"
             ],
             [
              0.1111111111111111,
              "#46039f"
             ],
             [
              0.2222222222222222,
              "#7201a8"
             ],
             [
              0.3333333333333333,
              "#9c179e"
             ],
             [
              0.4444444444444444,
              "#bd3786"
             ],
             [
              0.5555555555555556,
              "#d8576b"
             ],
             [
              0.6666666666666666,
              "#ed7953"
             ],
             [
              0.7777777777777778,
              "#fb9f3a"
             ],
             [
              0.8888888888888888,
              "#fdca26"
             ],
             [
              1,
              "#f0f921"
             ]
            ],
            "type": "heatmapgl"
           }
          ],
          "histogram": [
           {
            "marker": {
             "pattern": {
              "fillmode": "overlay",
              "size": 10,
              "solidity": 0.2
             }
            },
            "type": "histogram"
           }
          ],
          "histogram2d": [
           {
            "colorbar": {
             "outlinewidth": 0,
             "ticks": ""
            },
            "colorscale": [
             [
              0,
              "#0d0887"
             ],
             [
              0.1111111111111111,
              "#46039f"
             ],
             [
              0.2222222222222222,
              "#7201a8"
             ],
             [
              0.3333333333333333,
              "#9c179e"
             ],
             [
              0.4444444444444444,
              "#bd3786"
             ],
             [
              0.5555555555555556,
              "#d8576b"
             ],
             [
              0.6666666666666666,
              "#ed7953"
             ],
             [
              0.7777777777777778,
              "#fb9f3a"
             ],
             [
              0.8888888888888888,
              "#fdca26"
             ],
             [
              1,
              "#f0f921"
             ]
            ],
            "type": "histogram2d"
           }
          ],
          "histogram2dcontour": [
           {
            "colorbar": {
             "outlinewidth": 0,
             "ticks": ""
            },
            "colorscale": [
             [
              0,
              "#0d0887"
             ],
             [
              0.1111111111111111,
              "#46039f"
             ],
             [
              0.2222222222222222,
              "#7201a8"
             ],
             [
              0.3333333333333333,
              "#9c179e"
             ],
             [
              0.4444444444444444,
              "#bd3786"
             ],
             [
              0.5555555555555556,
              "#d8576b"
             ],
             [
              0.6666666666666666,
              "#ed7953"
             ],
             [
              0.7777777777777778,
              "#fb9f3a"
             ],
             [
              0.8888888888888888,
              "#fdca26"
             ],
             [
              1,
              "#f0f921"
             ]
            ],
            "type": "histogram2dcontour"
           }
          ],
          "mesh3d": [
           {
            "colorbar": {
             "outlinewidth": 0,
             "ticks": ""
            },
            "type": "mesh3d"
           }
          ],
          "parcoords": [
           {
            "line": {
             "colorbar": {
              "outlinewidth": 0,
              "ticks": ""
             }
            },
            "type": "parcoords"
           }
          ],
          "pie": [
           {
            "automargin": true,
            "type": "pie"
           }
          ],
          "scatter": [
           {
            "fillpattern": {
             "fillmode": "overlay",
             "size": 10,
             "solidity": 0.2
            },
            "type": "scatter"
           }
          ],
          "scatter3d": [
           {
            "line": {
             "colorbar": {
              "outlinewidth": 0,
              "ticks": ""
             }
            },
            "marker": {
             "colorbar": {
              "outlinewidth": 0,
              "ticks": ""
             }
            },
            "type": "scatter3d"
           }
          ],
          "scattercarpet": [
           {
            "marker": {
             "colorbar": {
              "outlinewidth": 0,
              "ticks": ""
             }
            },
            "type": "scattercarpet"
           }
          ],
          "scattergeo": [
           {
            "marker": {
             "colorbar": {
              "outlinewidth": 0,
              "ticks": ""
             }
            },
            "type": "scattergeo"
           }
          ],
          "scattergl": [
           {
            "marker": {
             "colorbar": {
              "outlinewidth": 0,
              "ticks": ""
             }
            },
            "type": "scattergl"
           }
          ],
          "scattermapbox": [
           {
            "marker": {
             "colorbar": {
              "outlinewidth": 0,
              "ticks": ""
             }
            },
            "type": "scattermapbox"
           }
          ],
          "scatterpolar": [
           {
            "marker": {
             "colorbar": {
              "outlinewidth": 0,
              "ticks": ""
             }
            },
            "type": "scatterpolar"
           }
          ],
          "scatterpolargl": [
           {
            "marker": {
             "colorbar": {
              "outlinewidth": 0,
              "ticks": ""
             }
            },
            "type": "scatterpolargl"
           }
          ],
          "scatterternary": [
           {
            "marker": {
             "colorbar": {
              "outlinewidth": 0,
              "ticks": ""
             }
            },
            "type": "scatterternary"
           }
          ],
          "surface": [
           {
            "colorbar": {
             "outlinewidth": 0,
             "ticks": ""
            },
            "colorscale": [
             [
              0,
              "#0d0887"
             ],
             [
              0.1111111111111111,
              "#46039f"
             ],
             [
              0.2222222222222222,
              "#7201a8"
             ],
             [
              0.3333333333333333,
              "#9c179e"
             ],
             [
              0.4444444444444444,
              "#bd3786"
             ],
             [
              0.5555555555555556,
              "#d8576b"
             ],
             [
              0.6666666666666666,
              "#ed7953"
             ],
             [
              0.7777777777777778,
              "#fb9f3a"
             ],
             [
              0.8888888888888888,
              "#fdca26"
             ],
             [
              1,
              "#f0f921"
             ]
            ],
            "type": "surface"
           }
          ],
          "table": [
           {
            "cells": {
             "fill": {
              "color": "#EBF0F8"
             },
             "line": {
              "color": "white"
             }
            },
            "header": {
             "fill": {
              "color": "#C8D4E3"
             },
             "line": {
              "color": "white"
             }
            },
            "type": "table"
           }
          ]
         },
         "layout": {
          "annotationdefaults": {
           "arrowcolor": "#2a3f5f",
           "arrowhead": 0,
           "arrowwidth": 1
          },
          "autotypenumbers": "strict",
          "coloraxis": {
           "colorbar": {
            "outlinewidth": 0,
            "ticks": ""
           }
          },
          "colorscale": {
           "diverging": [
            [
             0,
             "#8e0152"
            ],
            [
             0.1,
             "#c51b7d"
            ],
            [
             0.2,
             "#de77ae"
            ],
            [
             0.3,
             "#f1b6da"
            ],
            [
             0.4,
             "#fde0ef"
            ],
            [
             0.5,
             "#f7f7f7"
            ],
            [
             0.6,
             "#e6f5d0"
            ],
            [
             0.7,
             "#b8e186"
            ],
            [
             0.8,
             "#7fbc41"
            ],
            [
             0.9,
             "#4d9221"
            ],
            [
             1,
             "#276419"
            ]
           ],
           "sequential": [
            [
             0,
             "#0d0887"
            ],
            [
             0.1111111111111111,
             "#46039f"
            ],
            [
             0.2222222222222222,
             "#7201a8"
            ],
            [
             0.3333333333333333,
             "#9c179e"
            ],
            [
             0.4444444444444444,
             "#bd3786"
            ],
            [
             0.5555555555555556,
             "#d8576b"
            ],
            [
             0.6666666666666666,
             "#ed7953"
            ],
            [
             0.7777777777777778,
             "#fb9f3a"
            ],
            [
             0.8888888888888888,
             "#fdca26"
            ],
            [
             1,
             "#f0f921"
            ]
           ],
           "sequentialminus": [
            [
             0,
             "#0d0887"
            ],
            [
             0.1111111111111111,
             "#46039f"
            ],
            [
             0.2222222222222222,
             "#7201a8"
            ],
            [
             0.3333333333333333,
             "#9c179e"
            ],
            [
             0.4444444444444444,
             "#bd3786"
            ],
            [
             0.5555555555555556,
             "#d8576b"
            ],
            [
             0.6666666666666666,
             "#ed7953"
            ],
            [
             0.7777777777777778,
             "#fb9f3a"
            ],
            [
             0.8888888888888888,
             "#fdca26"
            ],
            [
             1,
             "#f0f921"
            ]
           ]
          },
          "colorway": [
           "#636efa",
           "#EF553B",
           "#00cc96",
           "#ab63fa",
           "#FFA15A",
           "#19d3f3",
           "#FF6692",
           "#B6E880",
           "#FF97FF",
           "#FECB52"
          ],
          "font": {
           "color": "#2a3f5f"
          },
          "geo": {
           "bgcolor": "white",
           "lakecolor": "white",
           "landcolor": "#E5ECF6",
           "showlakes": true,
           "showland": true,
           "subunitcolor": "white"
          },
          "hoverlabel": {
           "align": "left"
          },
          "hovermode": "closest",
          "mapbox": {
           "style": "light"
          },
          "paper_bgcolor": "white",
          "plot_bgcolor": "#E5ECF6",
          "polar": {
           "angularaxis": {
            "gridcolor": "white",
            "linecolor": "white",
            "ticks": ""
           },
           "bgcolor": "#E5ECF6",
           "radialaxis": {
            "gridcolor": "white",
            "linecolor": "white",
            "ticks": ""
           }
          },
          "scene": {
           "xaxis": {
            "backgroundcolor": "#E5ECF6",
            "gridcolor": "white",
            "gridwidth": 2,
            "linecolor": "white",
            "showbackground": true,
            "ticks": "",
            "zerolinecolor": "white"
           },
           "yaxis": {
            "backgroundcolor": "#E5ECF6",
            "gridcolor": "white",
            "gridwidth": 2,
            "linecolor": "white",
            "showbackground": true,
            "ticks": "",
            "zerolinecolor": "white"
           },
           "zaxis": {
            "backgroundcolor": "#E5ECF6",
            "gridcolor": "white",
            "gridwidth": 2,
            "linecolor": "white",
            "showbackground": true,
            "ticks": "",
            "zerolinecolor": "white"
           }
          },
          "shapedefaults": {
           "line": {
            "color": "#2a3f5f"
           }
          },
          "ternary": {
           "aaxis": {
            "gridcolor": "white",
            "linecolor": "white",
            "ticks": ""
           },
           "baxis": {
            "gridcolor": "white",
            "linecolor": "white",
            "ticks": ""
           },
           "bgcolor": "#E5ECF6",
           "caxis": {
            "gridcolor": "white",
            "linecolor": "white",
            "ticks": ""
           }
          },
          "title": {
           "x": 0.05
          },
          "xaxis": {
           "automargin": true,
           "gridcolor": "white",
           "linecolor": "white",
           "ticks": "",
           "title": {
            "standoff": 15
           },
           "zerolinecolor": "white",
           "zerolinewidth": 2
          },
          "yaxis": {
           "automargin": true,
           "gridcolor": "white",
           "linecolor": "white",
           "ticks": "",
           "title": {
            "standoff": 15
           },
           "zerolinecolor": "white",
           "zerolinewidth": 2
          }
         }
        }
       }
      },
      "image/png": "[encoded data removed]",
      "text/html": [
       "<div>                            <div id=\"6d4cd668-0f85-4cdc-b8b8-949fa4c2d43a\" class=\"plotly-graph-div\" style=\"height:525px; width:100%;\"></div>            <script type=\"text/javascript\">                require([\"plotly\"], function(Plotly) {                    window.PLOTLYENV=window.PLOTLYENV || {};                                    if (document.getElementById(\"6d4cd668-0f85-4cdc-b8b8-949fa4c2d43a\")) {                    Plotly.newPlot(                        \"6d4cd668-0f85-4cdc-b8b8-949fa4c2d43a\",                        [{\"customdata\":[[649],[578],[526],[288],[250],[200],[115],[69],[52],[43],[28],[25],[25],[25],[18],[17],[17],[15],[15],[15],[14],[12],[9],[6],[4],[4],[4],[4],[3],[3],[3],[3],[3],[3],[3],[2],[2],[2],[2],[2],[2],[2],[2],[2],[2],[2],[2],[2],[1],[1],[1],[1],[1],[1],[1],[1],[1],[1],[1],[1],[1],[1],[1],[1],[1],[1],[1],[1],[1],[1],[1],[1],[1],[1],[1],[1],[1],[1],[1],[1]],\"geo\":\"geo\",\"hovertemplate\":\"<b>%{hovertext}</b><br><br>size=%{marker.size}<br>lat=%{lat}<br>lon=%{lon}<br>\\u5c97\\u4f4d\\u6570\\u91cf=%{customdata[0]}<extra></extra>\",\"hovertext\":[\"\\u5317\\u4eac\",\"\\u6df1\\u5733\",\"\\u4e0a\\u6d77\",\"\\u5e7f\\u5dde\",\"\\u6210\\u90fd\",\"\\u676d\\u5dde\",\"\\u6b66\\u6c49\",\"\\u897f\\u5b89\",\"\\u5357\\u4eac\",\"\\u82cf\\u5dde\",\"\\u5408\\u80a5\",\"\\u4f5b\\u5c71\",\"\\u90d1\\u5dde\",\"\\u957f\\u6c99\",\"\\u91cd\\u5e86\",\"\\u5b81\\u6ce2\",\"\\u6d4e\\u5357\",\"\\u798f\\u5dde\",\"\\u4e1c\\u839e\",\"\\u53a6\\u95e8\",\"\\u5929\\u6d25\",\"\\u73e0\\u6d77\",\"\\u9752\\u5c9b\",\"\\u8d35\\u9633\",\"\\u6842\\u6797\",\"\\u5927\\u8fde\",\"\\u6e29\\u5dde\",\"\\u5eca\\u574a\",\"\\u4e2d\\u5c71\",\"\\u592a\\u539f\",\"\\u6606\\u660e\",\"\\u957f\\u6625\",\"\\u6d77\\u5916\",\"\\u91d1\\u660c\",\"\\u62c9\\u8428\",\"\\u9f99\\u5ca9\",\"\\u53f0\\u5dde\",\"\\u5357\\u5b81\",\"\\u6c88\\u9633\",\"\\u6f4d\\u574a\",\"\\u70df\\u53f0\",\"\\u6e56\\u5dde\",\"\\u6dc4\\u535a\",\"\\u65e0\\u9521\",\"\\u5357\\u660c\",\"\\u547c\\u548c\\u6d69\\u7279\",\"\\u77f3\\u5bb6\\u5e84\",\"\\u5e38\\u5dde\",\"\\u8fde\\u4e91\\u6e2f\",\"\\u6c55\\u5934\",\"\\u963f\\u514b\\u82cf\\u5730\\u533a\",\"\\u66f2\\u9756\",\"\\u5170\\u5dde\",\"\\u5609\\u5174\",\"\\u9999\\u6e2f\",\"\\u6885\\u5dde\",\"\\u6cc9\\u5dde\",\"\\u6d77\\u53e3\",\"\\u6d1b\\u9633\",\"\\u978d\\u5c71\",\"\\u6ee8\\u5dde\",\"\\u6cb3\\u6e90\",\"\\u8fd0\\u57ce\",\"\\u957f\\u6cbb\",\"\\u91d1\\u534e\",\"\\u5546\\u4e18\",\"\\u6e05\\u8fdc\",\"\\u5510\\u5c71\",\"\\u8fbd\\u9633\",\"\\u5f90\\u5dde\",\"\\u4e34\\u6c82\",\"\\u79e6\\u7687\\u5c9b\",\"\\u54b8\\u9633\",\"\\u901a\\u5316\",\"\\u76d0\\u57ce\",\"\\u5b89\\u9633\",\"\\u54c8\\u5c14\\u6ee8\",\"\\u60e0\\u5dde\",\"\\u4e4c\\u9c81\\u6728\\u9f50\",\"\\u626c\\u5dde\"],\"lat\":[39.90403,22.543099,31.230416,23.129162,30.572269,30.274084,30.593098,34.341568,32.060255,31.298886,31.820586,23.021548,34.746599,28.228209,29.563009,29.874556,36.651216,26.074507,23.020536,24.479833,39.084158,22.270715,36.067082,26.647661,25.273566,38.914003,27.994267,39.538047,22.517645,37.87059,24.880095,43.817071,26.80443,38.520089,29.645554,25.075123,28.656386,22.817002,41.805698,36.706774,37.463822,30.894348,36.813487,31.491169,28.682892,40.842585,38.042307,31.810689,34.596653,23.354091,41.168779,25.489999,36.061089,30.746129,22.276284,24.288615,24.874132,20.044001,34.619682,41.108647,37.38199,23.743538,35.026412,36.195386,29.079059,34.414172,23.681763,39.630867,41.267244,34.205768,35.104672,39.935385,34.329605,41.728401,33.347382,36.097577,45.803775,23.111847,43.825592,32.39421],\"legendgroup\":\"\",\"lon\":[116.407526,114.057868,121.473701,113.264434,104.066541,120.15507,114.305392,108.940174,118.796877,120.585315,117.227239,113.121416,113.625368,112.938814,106.551556,121.550357,117.119999,119.296494,113.751765,118.089425,117.200983,113.576726,120.382639,106.630153,110.290194,121.614682,120.699366,116.683752,113.392782,112.548879,102.832891,125.323544,104.012093,102.188043,91.140856,117.017536,121.420757,108.366543,123.431474,119.161755,121.447935,120.086823,118.054927,120.31191,115.858197,111.74918,114.51486,119.973987,119.221611,116.681972,80.260605,103.796167,103.834303,120.755486,114.163825,116.122238,118.675675,110.198293,112.45404,122.994329,117.970703,114.700447,111.007528,113.116255,119.647444,115.65637,113.056031,118.180193,123.236944,117.284124,118.356448,119.600492,108.708991,125.939697,120.163561,114.392392,126.534967,114.416196,87.616848,119.412966],\"marker\":{\"color\":\"#636efa\",\"size\":[3.812244696800369,3.761927838420529,3.7209857441537393,3.459392487759231,3.3979400086720375,3.3010299956639813,3.060697840353612,2.838849090737255,2.716003343634799,2.6334684555795866,2.4471580313422194,2.3979400086720375,2.3979400086720375,2.3979400086720375,2.255272505103306,2.230448921378274,2.230448921378274,2.1760912590556813,2.1760912590556813,2.1760912590556813,2.146128035678238,2.0791812460476247,1.954242509439325,1.7781512503836436,1.6020599913279623,1.6020599913279623,1.6020599913279623,1.6020599913279623,1.4771212547196624,1.4771212547196624,1.4771212547196624,1.4771212547196624,1.4771212547196624,1.4771212547196624,1.4771212547196624,1.3010299956639813,1.3010299956639813,1.3010299956639813,1.3010299956639813,1.3010299956639813,1.3010299956639813,1.3010299956639813,1.3010299956639813,1.3010299956639813,1.3010299956639813,1.3010299956639813,1.3010299956639813,1.3010299956639813,1.0,1.0,1.0,1.0,1.0,1.0,1.0,1.0,1.0,1.0,1.0,1.0,1.0,1.0,1.0,1.0,1.0,1.0,1.0,1.0,1.0,1.0,1.0,1.0,1.0,1.0,1.0,1.0,1.0,1.0,1.0,1.0],\"sizemode\":\"area\",\"sizeref\":0.009530611742000922,\"symbol\":\"circle\"},\"mode\":\"markers\",\"name\":\"\",\"showlegend\":false,\"type\":\"scattergeo\"}],                        {\"template\":{\"data\":{\"histogram2dcontour\":[{\"type\":\"histogram2dcontour\",\"colorbar\":{\"outlinewidth\":0,\"ticks\":\"\"},\"colorscale\":[[0.0,\"#0d0887\"],[0.1111111111111111,\"#46039f\"],[0.2222222222222222,\"#7201a8\"],[0.3333333333333333,\"#9c179e\"],[0.4444444444444444,\"#bd3786\"],[0.5555555555555556,\"#d8576b\"],[0.6666666666666666,\"#ed7953\"],[0.7777777777777778,\"#fb9f3a\"],[0.8888888888888888,\"#fdca26\"],[1.0,\"#f0f921\"]]}],\"choropleth\":[{\"type\":\"choropleth\",\"colorbar\":{\"outlinewidth\":0,\"ticks\":\"\"}}],\"histogram2d\":[{\"type\":\"histogram2d\",\"colorbar\":{\"outlinewidth\":0,\"ticks\":\"\"},\"colorscale\":[[0.0,\"#0d0887\"],[0.1111111111111111,\"#46039f\"],[0.2222222222222222,\"#7201a8\"],[0.3333333333333333,\"#9c179e\"],[0.4444444444444444,\"#bd3786\"],[0.5555555555555556,\"#d8576b\"],[0.6666666666666666,\"#ed7953\"],[0.7777777777777778,\"#fb9f3a\"],[0.8888888888888888,\"#fdca26\"],[1.0,\"#f0f921\"]]}],\"heatmap\":[{\"type\":\"heatmap\",\"colorbar\":{\"outlinewidth\":0,\"ticks\":\"\"},\"colorscale\":[[0.0,\"#0d0887\"],[0.1111111111111111,\"#46039f\"],[0.2222222222222222,\"#7201a8\"],[0.3333333333333333,\"#9c179e\"],[0.4444444444444444,\"#bd3786\"],[0.5555555555555556,\"#d8576b\"],[0.6666666666666666,\"#ed7953\"],[0.7777777777777778,\"#fb9f3a\"],[0.8888888888888888,\"#fdca26\"],[1.0,\"#f0f921\"]]}],\"heatmapgl\":[{\"type\":\"heatmapgl\",\"colorbar\":{\"outlinewidth\":0,\"ticks\":\"\"},\"colorscale\":[[0.0,\"#0d0887\"],[0.1111111111111111,\"#46039f\"],[0.2222222222222222,\"#7201a8\"],[0.3333333333333333,\"#9c179e\"],[0.4444444444444444,\"#bd3786\"],[0.5555555555555556,\"#d8576b\"],[0.6666666666666666,\"#ed7953\"],[0.7777777777777778,\"#fb9f3a\"],[0.8888888888888888,\"#fdca26\"],[1.0,\"#f0f921\"]]}],\"contourcarpet\":[{\"type\":\"contourcarpet\",\"colorbar\":{\"outlinewidth\":0,\"ticks\":\"\"}}],\"contour\":[{\"type\":\"contour\",\"colorbar\":{\"outlinewidth\":0,\"ticks\":\"\"},\"colorscale\":[[0.0,\"#0d0887\"],[0.1111111111111111,\"#46039f\"],[0.2222222222222222,\"#7201a8\"],[0.3333333333333333,\"#9c179e\"],[0.4444444444444444,\"#bd3786\"],[0.5555555555555556,\"#d8576b\"],[0.6666666666666666,\"#ed7953\"],[0.7777777777777778,\"#fb9f3a\"],[0.8888888888888888,\"#fdca26\"],[1.0,\"#f0f921\"]]}],\"surface\":[{\"type\":\"surface\",\"colorbar\":{\"outlinewidth\":0,\"ticks\":\"\"},\"colorscale\":[[0.0,\"#0d0887\"],[0.1111111111111111,\"#46039f\"],[0.2222222222222222,\"#7201a8\"],[0.3333333333333333,\"#9c179e\"],[0.4444444444444444,\"#bd3786\"],[0.5555555555555556,\"#d8576b\"],[0.6666666666666666,\"#ed7953\"],[0.7777777777777778,\"#fb9f3a\"],[0.8888888888888888,\"#fdca26\"],[1.0,\"#f0f921\"]]}],\"mesh3d\":[{\"type\":\"mesh3d\",\"colorbar\":{\"outlinewidth\":0,\"ticks\":\"\"}}],\"scatter\":[{\"fillpattern\":{\"fillmode\":\"overlay\",\"size\":10,\"solidity\":0.2},\"type\":\"scatter\"}],\"parcoords\":[{\"type\":\"parcoords\",\"line\":{\"colorbar\":{\"outlinewidth\":0,\"ticks\":\"\"}}}],\"scatterpolargl\":[{\"type\":\"scatterpolargl\",\"marker\":{\"colorbar\":{\"outlinewidth\":0,\"ticks\":\"\"}}}],\"bar\":[{\"error_x\":{\"color\":\"#2a3f5f\"},\"error_y\":{\"color\":\"#2a3f5f\"},\"marker\":{\"line\":{\"color\":\"#E5ECF6\",\"width\":0.5},\"pattern\":{\"fillmode\":\"overlay\",\"size\":10,\"solidity\":0.2}},\"type\":\"bar\"}],\"scattergeo\":[{\"type\":\"scattergeo\",\"marker\":{\"colorbar\":{\"outlinewidth\":0,\"ticks\":\"\"}}}],\"scatterpolar\":[{\"type\":\"scatterpolar\",\"marker\":{\"colorbar\":{\"outlinewidth\":0,\"ticks\":\"\"}}}],\"histogram\":[{\"marker\":{\"pattern\":{\"fillmode\":\"overlay\",\"size\":10,\"solidity\":0.2}},\"type\":\"histogram\"}],\"scattergl\":[{\"type\":\"scattergl\",\"marker\":{\"colorbar\":{\"outlinewidth\":0,\"ticks\":\"\"}}}],\"scatter3d\":[{\"type\":\"scatter3d\",\"line\":{\"colorbar\":{\"outlinewidth\":0,\"ticks\":\"\"}},\"marker\":{\"colorbar\":{\"outlinewidth\":0,\"ticks\":\"\"}}}],\"scattermapbox\":[{\"type\":\"scattermapbox\",\"marker\":{\"colorbar\":{\"outlinewidth\":0,\"ticks\":\"\"}}}],\"scatterternary\":[{\"type\":\"scatterternary\",\"marker\":{\"colorbar\":{\"outlinewidth\":0,\"ticks\":\"\"}}}],\"scattercarpet\":[{\"type\":\"scattercarpet\",\"marker\":{\"colorbar\":{\"outlinewidth\":0,\"ticks\":\"\"}}}],\"carpet\":[{\"aaxis\":{\"endlinecolor\":\"#2a3f5f\",\"gridcolor\":\"white\",\"linecolor\":\"white\",\"minorgridcolor\":\"white\",\"startlinecolor\":\"#2a3f5f\"},\"baxis\":{\"endlinecolor\":\"#2a3f5f\",\"gridcolor\":\"white\",\"linecolor\":\"white\",\"minorgridcolor\":\"white\",\"startlinecolor\":\"#2a3f5f\"},\"type\":\"carpet\"}],\"table\":[{\"cells\":{\"fill\":{\"color\":\"#EBF0F8\"},\"line\":{\"color\":\"white\"}},\"header\":{\"fill\":{\"color\":\"#C8D4E3\"},\"line\":{\"color\":\"white\"}},\"type\":\"table\"}],\"barpolar\":[{\"marker\":{\"line\":{\"color\":\"#E5ECF6\",\"width\":0.5},\"pattern\":{\"fillmode\":\"overlay\",\"size\":10,\"solidity\":0.2}},\"type\":\"barpolar\"}],\"pie\":[{\"automargin\":true,\"type\":\"pie\"}]},\"layout\":{\"autotypenumbers\":\"strict\",\"colorway\":[\"#636efa\",\"#EF553B\",\"#00cc96\",\"#ab63fa\",\"#FFA15A\",\"#19d3f3\",\"#FF6692\",\"#B6E880\",\"#FF97FF\",\"#FECB52\"],\"font\":{\"color\":\"#2a3f5f\"},\"hovermode\":\"closest\",\"hoverlabel\":{\"align\":\"left\"},\"paper_bgcolor\":\"white\",\"plot_bgcolor\":\"#E5ECF6\",\"polar\":{\"bgcolor\":\"#E5ECF6\",\"angularaxis\":{\"gridcolor\":\"white\",\"linecolor\":\"white\",\"ticks\":\"\"},\"radialaxis\":{\"gridcolor\":\"white\",\"linecolor\":\"white\",\"ticks\":\"\"}},\"ternary\":{\"bgcolor\":\"#E5ECF6\",\"aaxis\":{\"gridcolor\":\"white\",\"linecolor\":\"white\",\"ticks\":\"\"},\"baxis\":{\"gridcolor\":\"white\",\"linecolor\":\"white\",\"ticks\":\"\"},\"caxis\":{\"gridcolor\":\"white\",\"linecolor\":\"white\",\"ticks\":\"\"}},\"coloraxis\":{\"colorbar\":{\"outlinewidth\":0,\"ticks\":\"\"}},\"colorscale\":{\"sequential\":[[0.0,\"#0d0887\"],[0.1111111111111111,\"#46039f\"],[0.2222222222222222,\"#7201a8\"],[0.3333333333333333,\"#9c179e\"],[0.4444444444444444,\"#bd3786\"],[0.5555555555555556,\"#d8576b\"],[0.6666666666666666,\"#ed7953\"],[0.7777777777777778,\"#fb9f3a\"],[0.8888888888888888,\"#fdca26\"],[1.0,\"#f0f921\"]],\"sequentialminus\":[[0.0,\"#0d0887\"],[0.1111111111111111,\"#46039f\"],[0.2222222222222222,\"#7201a8\"],[0.3333333333333333,\"#9c179e\"],[0.4444444444444444,\"#bd3786\"],[0.5555555555555556,\"#d8576b\"],[0.6666666666666666,\"#ed7953\"],[0.7777777777777778,\"#fb9f3a\"],[0.8888888888888888,\"#fdca26\"],[1.0,\"#f0f921\"]],\"diverging\":[[0,\"#8e0152\"],[0.1,\"#c51b7d\"],[0.2,\"#de77ae\"],[0.3,\"#f1b6da\"],[0.4,\"#fde0ef\"],[0.5,\"#f7f7f7\"],[0.6,\"#e6f5d0\"],[0.7,\"#b8e186\"],[0.8,\"#7fbc41\"],[0.9,\"#4d9221\"],[1,\"#276419\"]]},\"xaxis\":{\"gridcolor\":\"white\",\"linecolor\":\"white\",\"ticks\":\"\",\"title\":{\"standoff\":15},\"zerolinecolor\":\"white\",\"automargin\":true,\"zerolinewidth\":2},\"yaxis\":{\"gridcolor\":\"white\",\"linecolor\":\"white\",\"ticks\":\"\",\"title\":{\"standoff\":15},\"zerolinecolor\":\"white\",\"automargin\":true,\"zerolinewidth\":2},\"scene\":{\"xaxis\":{\"backgroundcolor\":\"#E5ECF6\",\"gridcolor\":\"white\",\"linecolor\":\"white\",\"showbackground\":true,\"ticks\":\"\",\"zerolinecolor\":\"white\",\"gridwidth\":2},\"yaxis\":{\"backgroundcolor\":\"#E5ECF6\",\"gridcolor\":\"white\",\"linecolor\":\"white\",\"showbackground\":true,\"ticks\":\"\",\"zerolinecolor\":\"white\",\"gridwidth\":2},\"zaxis\":{\"backgroundcolor\":\"#E5ECF6\",\"gridcolor\":\"white\",\"linecolor\":\"white\",\"showbackground\":true,\"ticks\":\"\",\"zerolinecolor\":\"white\",\"gridwidth\":2}},\"shapedefaults\":{\"line\":{\"color\":\"#2a3f5f\"}},\"annotationdefaults\":{\"arrowcolor\":\"#2a3f5f\",\"arrowhead\":0,\"arrowwidth\":1},\"geo\":{\"bgcolor\":\"white\",\"landcolor\":\"#E5ECF6\",\"subunitcolor\":\"white\",\"showland\":true,\"showlakes\":true,\"lakecolor\":\"white\"},\"title\":{\"x\":0.05},\"mapbox\":{\"style\":\"light\"}}},\"geo\":{\"domain\":{\"x\":[0.0,1.0],\"y\":[0.0,1.0]},\"center\":{},\"scope\":\"asia\"},\"legend\":{\"tracegroupgap\":0,\"itemsizing\":\"constant\"},\"margin\":{\"t\":60}},                        {\"responsive\": true}                    ).then(function(){\n",
       "                            \n",
       "var gd = document.getElementById('6d4cd668-0f85-4cdc-b8b8-949fa4c2d43a');\n",
       "var x = new MutationObserver(function (mutations, observer) {{\n",
       "        var display = window.getComputedStyle(gd).display;\n",
       "        if (!display || display === 'none') {{\n",
       "            console.log([gd, 'removed!']);\n",
       "            Plotly.purge(gd);\n",
       "            observer.disconnect();\n",
       "        }}\n",
       "}});\n",
       "\n",
       "// Listen for the removal of the full notebook cells\n",
       "var notebookContainer = gd.closest('#notebook-container');\n",
       "if (notebookContainer) {{\n",
       "    x.observe(notebookContainer, {childList: true});\n",
       "}}\n",
       "\n",
       "// Listen for the clearing of the current output cell\n",
       "var outputEl = gd.closest('.output');\n",
       "if (outputEl) {{\n",
       "    x.observe(outputEl, {childList: true});\n",
       "}}\n",
       "\n",
       "                        })                };                });            </script>        </div>"
      ]
     },
     "metadata": {},
     "output_type": "display_data"
    }
   ],
   "source": [
    "count=10*df['岗位数量']\n",
    "size=np.log10(count)\n",
    "\n",
    "df['size']=size\n",
    "fig = px.scatter_geo(df, lat='lat',lon='lon', \n",
    "                     hover_name=\"城市\", size=\"size\",\n",
    "                     hover_data='岗位数量',\n",
    "                     #projection=\"natural earth\"\n",
    "                    scope = 'asia')\n",
    "fig.show()"
   ]
  },
  {
   "cell_type": "code",
   "execution_count": 10,
   "id": "9f6d0ca3-9672-4835-96a3-a27dac6da851",
   "metadata": {
    "tags": []
   },
   "outputs": [],
   "source": [
    "from pyecharts import Map, Geo"
   ]
  },
  {
   "cell_type": "code",
   "execution_count": 11,
   "id": "4a203b01-daa5-48ac-b3d0-03d848c4685f",
   "metadata": {},
   "outputs": [],
   "source": [
    "\n",
    "attr = df['城市']\n",
    "value = df['岗位数量']\n",
    " \n",
    "geo = Geo(\"城市-岗位数量\", title_color=\"#2E2E2E\",\n",
    "          title_text_size=24,title_top=20,title_pos=\"center\", width=1300,height=600, \n",
    "          background_color='#F6CEF5')\n",
    "geo.add(\"\", attr, value, type=\"effectScatter\", is_random=True, visual_range=[0, 100], \n",
    "        maptype='china',visual_text_color=\"#FF0000\", geo_normal_color=\"#6E6E6E\",geo_emphasis_color='#F5D0A9',\n",
    "        symbol_size=8, effect_scale=5, is_visualmap=True)\n",
    " \n",
    "geo.render(path=u\"C:\\\\Users\\\\wang'zi'cheng\\Desktop\\\\往后余生.html\")#生成html文件"
   ]
  },
  {
   "cell_type": "code",
   "execution_count": null,
   "id": "048ac591-50cd-452a-97b6-be4deca77998",
   "metadata": {},
   "outputs": [],
   "source": []
  }
 ],
 "metadata": {
  "kernelspec": {
   "display_name": "Python 3 (ipykernel)",
   "language": "python",
   "name": "python3"
  },
  "language_info": {
   "codemirror_mode": {
    "name": "ipython",
    "version": 3
   },
   "file_extension": ".py",
   "mimetype": "text/x-python",
   "name": "python",
   "nbconvert_exporter": "python",
   "pygments_lexer": "ipython3",
   "version": "3.9.4"
  }
 },
 "nbformat": 4,
 "nbformat_minor": 5
}
